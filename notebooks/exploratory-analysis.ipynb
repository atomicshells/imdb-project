{
 "cells": [
  {
   "cell_type": "markdown",
   "metadata": {},
   "source": [
    "![banner.png](banner.png)"
   ]
  },
  {
   "cell_type": "markdown",
   "metadata": {},
   "source": [
    "<h2 style=\"color:#de4a48; background-color:#fce19a; padding: 10px; text-align:left; border: 1px solid #fce19a;\">Imports</h2>"
   ]
  },
  {
   "cell_type": "code",
   "execution_count": 1,
   "metadata": {
    "execution": {
     "iopub.execute_input": "2025-03-09T10:23:33.548546Z",
     "iopub.status.busy": "2025-03-09T10:23:33.547628Z",
     "iopub.status.idle": "2025-03-09T10:23:37.474295Z",
     "shell.execute_reply": "2025-03-09T10:23:37.471052Z",
     "shell.execute_reply.started": "2025-03-09T10:23:33.548433Z"
    }
   },
   "outputs": [],
   "source": [
    "from pyspark.sql import SparkSession\n",
    "from pyspark.sql.functions import col, explode, split, min, max, count, avg, lit\n",
    "from pyspark.sql.types import StructType, StructField, StringType, IntegerType, DoubleType\n",
    "import os"
   ]
  },
  {
   "cell_type": "code",
   "execution_count": 2,
   "metadata": {
    "execution": {
     "iopub.execute_input": "2025-03-09T07:38:17.087872Z",
     "iopub.status.busy": "2025-03-09T07:38:17.086227Z",
     "iopub.status.idle": "2025-03-09T07:38:17.113682Z",
     "shell.execute_reply": "2025-03-09T07:38:17.108096Z",
     "shell.execute_reply.started": "2025-03-09T07:38:17.087760Z"
    }
   },
   "outputs": [],
   "source": [
    "# os.environ[\"HADOOP_HOME\"] = \"D:\\\\hadoop\"\n",
    "# os.environ[\"PATH\"] += os.pathsep + os.path.join(os.environ[\"HADOOP_HOME\"], \"bin\")"
   ]
  },
  {
   "cell_type": "code",
   "execution_count": 2,
   "metadata": {
    "execution": {
     "iopub.execute_input": "2025-03-09T10:23:38.322148Z",
     "iopub.status.busy": "2025-03-09T10:23:38.319674Z",
     "iopub.status.idle": "2025-03-09T10:24:08.222476Z",
     "shell.execute_reply": "2025-03-09T10:24:08.221521Z",
     "shell.execute_reply.started": "2025-03-09T10:23:38.321993Z"
    }
   },
   "outputs": [],
   "source": [
    "spark = SparkSession.builder \\\n",
    "    .appName(\"IMDbProject\") \\\n",
    "    .config(\"spark.driver.memory\", \"4g\") \\\n",
    "    .config(\"spark.hadoop.security.authentication\", \"simple\") \\\n",
    "    .getOrCreate()"
   ]
  },
  {
   "cell_type": "code",
   "execution_count": 4,
   "metadata": {
    "execution": {
     "iopub.execute_input": "2025-03-09T08:38:53.218013Z",
     "iopub.status.busy": "2025-03-09T08:38:53.217357Z",
     "iopub.status.idle": "2025-03-09T08:38:53.224979Z",
     "shell.execute_reply": "2025-03-09T08:38:53.223880Z",
     "shell.execute_reply.started": "2025-03-09T08:38:53.217961Z"
    }
   },
   "outputs": [
    {
     "name": "stdout",
     "output_type": "stream",
     "text": [
      "Spark Version: 3.5.5\n"
     ]
    }
   ],
   "source": [
    "# Confirm Spark is running\n",
    "print(f\"Spark Version: {spark.version}\")"
   ]
  },
  {
   "cell_type": "code",
   "execution_count": null,
   "metadata": {},
   "outputs": [],
   "source": [
    "# spark.conf.set(\"spark.sql.shuffle.partitions\", \"4\")\n",
    "# spark.conf.set(\"spark.executor.memory\", \"2g\")"
   ]
  },
  {
   "cell_type": "markdown",
   "metadata": {},
   "source": [
    "<h2 style=\"color:#de4a48; background-color:#fce19a; padding: 10px; text-align:left; border: 1px solid #fce19a;\">Load Datasets</h2>"
   ]
  },
  {
   "cell_type": "code",
   "execution_count": 4,
   "metadata": {
    "execution": {
     "iopub.execute_input": "2025-03-09T10:24:23.171210Z",
     "iopub.status.busy": "2025-03-09T10:24:23.169693Z",
     "iopub.status.idle": "2025-03-09T10:24:23.177447Z",
     "shell.execute_reply": "2025-03-09T10:24:23.175933Z",
     "shell.execute_reply.started": "2025-03-09T10:24:23.171161Z"
    }
   },
   "outputs": [],
   "source": [
    "# Paths\n",
    "IMDB_PATH = '../data/raw/imdb'\n",
    "TMDB_PATH = '../data/raw/tmdb'\n",
    "RAW_PARQUET_PATH = '../data/raw_parquet'\n",
    "PROCESSED_PATH = '../data/processed'"
   ]
  },
  {
   "cell_type": "code",
   "execution_count": 5,
   "metadata": {},
   "outputs": [],
   "source": [
    "# # Test\n",
    "\n",
    "# # Load just ratings file\n",
    "# ratings = spark.read.csv(\n",
    "#     os.path.join(IMDB_PATH, 'title.ratings.tsv'),\n",
    "#     sep='\\t',\n",
    "#     header=True,\n",
    "#     inferSchema=True,\n",
    "#     nullValue='\\\\N'\n",
    "# )\n",
    "\n",
    "# # Quick check the schema (optional)\n",
    "# ratings.printSchema()\n",
    "\n",
    "# # Quick check the data (optional)\n",
    "# ratings.show(5)\n",
    "\n",
    "# # Test writing ratings to Parquet (this is the test)\n",
    "# ratings.write.mode('overwrite').parquet(os.path.join(PROCESSED_PATH, 'ratings.parquet'))\n",
    "\n",
    "# print(\"✅ Ratings saved to Parquet successfully!\")"
   ]
  },
  {
   "cell_type": "code",
   "execution_count": 5,
   "metadata": {
    "execution": {
     "iopub.execute_input": "2025-03-09T10:24:26.447051Z",
     "iopub.status.busy": "2025-03-09T10:24:26.444867Z",
     "iopub.status.idle": "2025-03-09T10:24:26.510096Z",
     "shell.execute_reply": "2025-03-09T10:24:26.508125Z",
     "shell.execute_reply.started": "2025-03-09T10:24:26.446945Z"
    }
   },
   "outputs": [],
   "source": [
    "# Define schemas based on the provided structure for each IMDb file\n",
    "schemas = {\n",
    "    \"basics\": StructType([\n",
    "        StructField(\"tconst\", StringType(), True),\n",
    "        StructField(\"titleType\", StringType(), True),\n",
    "        StructField(\"primaryTitle\", StringType(), True),\n",
    "        StructField(\"originalTitle\", StringType(), True),\n",
    "        StructField(\"isAdult\", IntegerType(), True),\n",
    "        StructField(\"startYear\", IntegerType(), True),\n",
    "        StructField(\"endYear\", IntegerType(), True),\n",
    "        StructField(\"runtimeMinutes\", StringType(), True),\n",
    "        StructField(\"genres\", StringType(), True)\n",
    "    ]),\n",
    "    \"akas\": StructType([\n",
    "        StructField(\"titleId\", StringType(), True),\n",
    "        StructField(\"ordering\", IntegerType(), True),\n",
    "        StructField(\"title\", StringType(), True),\n",
    "        StructField(\"region\", StringType(), True),\n",
    "        StructField(\"language\", StringType(), True),\n",
    "        StructField(\"types\", StringType(), True),\n",
    "        StructField(\"attributes\", StringType(), True),\n",
    "        StructField(\"isOriginalTitle\", IntegerType(), True)\n",
    "    ]),\n",
    "    \"crew\": StructType([\n",
    "        StructField(\"tconst\", StringType(), True),\n",
    "        StructField(\"directors\", StringType(), True),\n",
    "        StructField(\"writers\", StringType(), True)\n",
    "    ]),\n",
    "    \"episode\": StructType([\n",
    "        StructField(\"tconst\", StringType(), True),\n",
    "        StructField(\"parentTconst\", StringType(), True),\n",
    "        StructField(\"seasonNumber\", IntegerType(), True),\n",
    "        StructField(\"episodeNumber\", IntegerType(), True)\n",
    "    ]),\n",
    "    \"principals\": StructType([\n",
    "        StructField(\"tconst\", StringType(), True),\n",
    "        StructField(\"ordering\", IntegerType(), True),\n",
    "        StructField(\"nconst\", StringType(), True),\n",
    "        StructField(\"category\", StringType(), True),\n",
    "        StructField(\"job\", StringType(), True),\n",
    "        StructField(\"characters\", StringType(), True)\n",
    "    ]),\n",
    "    \"ratings\": StructType([\n",
    "        StructField(\"tconst\", StringType(), True),\n",
    "        StructField(\"averageRating\", DoubleType(), True),\n",
    "        StructField(\"numVotes\", IntegerType(), True)\n",
    "    ]),\n",
    "    \"names\": StructType([\n",
    "        StructField(\"nconst\", StringType(), True),\n",
    "        StructField(\"primaryName\", StringType(), True),\n",
    "        StructField(\"birthYear\", IntegerType(), True),\n",
    "        StructField(\"deathYear\", IntegerType(), True),\n",
    "        StructField(\"primaryProfession\", StringType(), True),\n",
    "        StructField(\"knownForTitles\", StringType(), True)\n",
    "    ])\n",
    "}\n",
    "\n",
    "# Make sure output folders exist\n",
    "os.makedirs(RAW_PARQUET_PATH, exist_ok=True)\n",
    "os.makedirs(PROCESSED_PATH, exist_ok=True)\n",
    "\n",
    "imdb_files = {\n",
    "    \"basics\": \"title.basics.tsv\",\n",
    "    \"akas\": \"title.akas.tsv\",\n",
    "    \"crew\": \"title.crew.tsv\",\n",
    "    \"episode\": \"title.episode.tsv\",\n",
    "    \"principals\": \"title.principals.tsv\",\n",
    "    \"ratings\": \"title.ratings.tsv\",\n",
    "    \"names\": \"name.basics.tsv\"\n",
    "}"
   ]
  },
  {
   "cell_type": "markdown",
   "metadata": {},
   "source": [
    "### Load IMDB data to Spark Dataframes"
   ]
  },
  {
   "cell_type": "code",
   "execution_count": 6,
   "metadata": {
    "execution": {
     "iopub.execute_input": "2025-03-09T10:24:29.399036Z",
     "iopub.status.busy": "2025-03-09T10:24:29.396923Z",
     "iopub.status.idle": "2025-03-09T10:24:44.563542Z",
     "shell.execute_reply": "2025-03-09T10:24:44.562074Z",
     "shell.execute_reply.started": "2025-03-09T10:24:29.398914Z"
    }
   },
   "outputs": [
    {
     "name": "stdout",
     "output_type": "stream",
     "text": [
      "IMDb - basics:\n",
      "+---------+---------+--------------------+--------------------+-------+---------+-------+--------------+--------------------+\n",
      "|   tconst|titleType|        primaryTitle|       originalTitle|isAdult|startYear|endYear|runtimeMinutes|              genres|\n",
      "+---------+---------+--------------------+--------------------+-------+---------+-------+--------------+--------------------+\n",
      "|tt0000001|    short|          Carmencita|          Carmencita|      0|     1894|   NULL|             1|   Documentary,Short|\n",
      "|tt0000002|    short|Le clown et ses c...|Le clown et ses c...|      0|     1892|   NULL|             5|     Animation,Short|\n",
      "|tt0000003|    short|        Poor Pierrot|      Pauvre Pierrot|      0|     1892|   NULL|             5|Animation,Comedy,...|\n",
      "|tt0000004|    short|         Un bon bock|         Un bon bock|      0|     1892|   NULL|            12|     Animation,Short|\n",
      "|tt0000005|    short|    Blacksmith Scene|    Blacksmith Scene|      0|     1893|   NULL|             1|               Short|\n",
      "+---------+---------+--------------------+--------------------+-------+---------+-------+--------------+--------------------+\n",
      "only showing top 5 rows\n",
      "\n",
      "IMDb - akas:\n",
      "+---------+--------+--------------------+------+--------+-----------+-------------+---------------+\n",
      "|  titleId|ordering|               title|region|language|      types|   attributes|isOriginalTitle|\n",
      "+---------+--------+--------------------+------+--------+-----------+-------------+---------------+\n",
      "|tt0000001|       1|          Carmencita|  NULL|    NULL|   original|         NULL|              1|\n",
      "|tt0000001|       2|          Carmencita|    DE|    NULL|       NULL|literal title|              0|\n",
      "|tt0000001|       3|          Carmencita|    US|    NULL|imdbDisplay|         NULL|              0|\n",
      "|tt0000001|       4|Carmencita - span...|    HU|    NULL|imdbDisplay|         NULL|              0|\n",
      "|tt0000001|       5|          Καρμενσίτα|    GR|    NULL|imdbDisplay|         NULL|              0|\n",
      "+---------+--------+--------------------+------+--------+-----------+-------------+---------------+\n",
      "only showing top 5 rows\n",
      "\n",
      "IMDb - crew:\n",
      "+---------+---------+---------+\n",
      "|   tconst|directors|  writers|\n",
      "+---------+---------+---------+\n",
      "|tt0000001|nm0005690|     NULL|\n",
      "|tt0000002|nm0721526|     NULL|\n",
      "|tt0000003|nm0721526|nm0721526|\n",
      "|tt0000004|nm0721526|     NULL|\n",
      "|tt0000005|nm0005690|     NULL|\n",
      "+---------+---------+---------+\n",
      "only showing top 5 rows\n",
      "\n",
      "IMDb - episode:\n",
      "+---------+------------+------------+-------------+\n",
      "|   tconst|parentTconst|seasonNumber|episodeNumber|\n",
      "+---------+------------+------------+-------------+\n",
      "|tt0031458|  tt32857063|        NULL|         NULL|\n",
      "|tt0041951|   tt0041038|           1|            9|\n",
      "|tt0042816|   tt0989125|           1|           17|\n",
      "|tt0042889|   tt0989125|        NULL|         NULL|\n",
      "|tt0043426|   tt0040051|           3|           42|\n",
      "+---------+------------+------------+-------------+\n",
      "only showing top 5 rows\n",
      "\n",
      "IMDb - principals:\n",
      "+---------+--------+---------+---------------+--------------------+----------+\n",
      "|   tconst|ordering|   nconst|       category|                 job|characters|\n",
      "+---------+--------+---------+---------------+--------------------+----------+\n",
      "|tt0000001|       1|nm1588970|           self|                NULL|  [\"Self\"]|\n",
      "|tt0000001|       2|nm0005690|       director|                NULL|      NULL|\n",
      "|tt0000001|       3|nm0005690|       producer|            producer|      NULL|\n",
      "|tt0000001|       4|nm0374658|cinematographer|director of photo...|      NULL|\n",
      "|tt0000002|       1|nm0721526|       director|                NULL|      NULL|\n",
      "+---------+--------+---------+---------------+--------------------+----------+\n",
      "only showing top 5 rows\n",
      "\n",
      "IMDb - ratings:\n",
      "+---------+-------------+--------+\n",
      "|   tconst|averageRating|numVotes|\n",
      "+---------+-------------+--------+\n",
      "|tt0000001|          5.7|    2136|\n",
      "|tt0000002|          5.5|     289|\n",
      "|tt0000003|          6.4|    2170|\n",
      "|tt0000004|          5.3|     185|\n",
      "|tt0000005|          6.2|    2902|\n",
      "+---------+-------------+--------+\n",
      "only showing top 5 rows\n",
      "\n",
      "IMDb - names:\n",
      "+---------+---------------+---------+---------+--------------------+--------------------+\n",
      "|   nconst|    primaryName|birthYear|deathYear|   primaryProfession|      knownForTitles|\n",
      "+---------+---------------+---------+---------+--------------------+--------------------+\n",
      "|nm0000001|   Fred Astaire|     1899|     1987|actor,miscellaneo...|tt0072308,tt00504...|\n",
      "|nm0000002|  Lauren Bacall|     1924|     2014|actress,soundtrac...|tt0037382,tt00752...|\n",
      "|nm0000003|Brigitte Bardot|     1934|     NULL|actress,music_dep...|tt0057345,tt00491...|\n",
      "|nm0000004|   John Belushi|     1949|     1982|actor,writer,musi...|tt0072562,tt00779...|\n",
      "|nm0000005| Ingmar Bergman|     1918|     2007|writer,director,a...|tt0050986,tt00694...|\n",
      "+---------+---------------+---------+---------+--------------------+--------------------+\n",
      "only showing top 5 rows\n",
      "\n"
     ]
    }
   ],
   "source": [
    "# Load files using predefined schemas\n",
    "imdb_dfs = {\n",
    "    key: spark.read.csv(\n",
    "        os.path.join(IMDB_PATH, filename),\n",
    "        sep='\\t',\n",
    "        header=True,\n",
    "        schema=schemas[key],\n",
    "        nullValue='\\\\N'\n",
    "    )\n",
    "    for key, filename in imdb_files.items()\n",
    "}\n",
    "\n",
    "# Display the data for each IMDb file\n",
    "for name, df in imdb_dfs.items():\n",
    "    print(f\"IMDb - {name}:\")\n",
    "    df.show(5)"
   ]
  },
  {
   "cell_type": "markdown",
   "metadata": {},
   "source": [
    "### Save unfiltered IMDB files to Parquet"
   ]
  },
  {
   "cell_type": "code",
   "execution_count": 6,
   "metadata": {},
   "outputs": [
    {
     "name": "stdout",
     "output_type": "stream",
     "text": [
      "💾 Saving 'ratings' to ../data/raw_parquet/ratings.parquet ...\n"
     ]
    },
    {
     "name": "stderr",
     "output_type": "stream",
     "text": [
      "                                                                                "
     ]
    },
    {
     "name": "stdout",
     "output_type": "stream",
     "text": [
      "✅ Successfully saved 'ratings' to ../data/raw_parquet/ratings.parquet!\n"
     ]
    }
   ],
   "source": [
    "# parquet_path = os.path.join(RAW_PARQUET_PATH, 'ratings.parquet')\n",
    "# print(f\"💾 Saving 'ratings' to {parquet_path} ...\")\n",
    "# imdb_dfs['ratings'].write.mode('overwrite').parquet(parquet_path)\n",
    "# print(f\"✅ Successfully saved 'ratings' to {parquet_path}!\")"
   ]
  },
  {
   "cell_type": "code",
   "execution_count": null,
   "metadata": {},
   "outputs": [
    {
     "name": "stdout",
     "output_type": "stream",
     "text": [
      "💾 Saving 'names' to ../data/raw_parquet/names.parquet ...\n"
     ]
    },
    {
     "name": "stderr",
     "output_type": "stream",
     "text": [
      "[Stage 25:>                                                         (0 + 8) / 8]"
     ]
    }
   ],
   "source": [
    "# parquet_path = os.path.join(RAW_PARQUET_PATH, 'names.parquet')\n",
    "# print(f\"💾 Saving 'names' to {parquet_path} ...\")\n",
    "# imdb_dfs['names'].write.mode('overwrite').parquet(parquet_path)\n",
    "# print(f\"✅ Successfully saved 'names' to {parquet_path}!\")"
   ]
  },
  {
   "cell_type": "code",
   "execution_count": null,
   "metadata": {},
   "outputs": [
    {
     "name": "stdout",
     "output_type": "stream",
     "text": [
      "💾 Saving 'basics' (partitioned by startYear) to ../data/processed/basics.parquet ...\n"
     ]
    },
    {
     "name": "stderr",
     "output_type": "stream",
     "text": [
      "[Stage 9:>                                                         (0 + 8) / 11]"
     ]
    }
   ],
   "source": [
    "# # Repartition by startYear for efficiency\n",
    "# imdb_basics = imdb_dfs['basics'].repartition(\"startYear\")\n",
    "\n",
    "# # Save to Parquet\n",
    "# parquet_path = os.path.join(PROCESSED_PATH, 'basics.parquet')\n",
    "# print(f\"💾 Saving 'basics' (partitioned by startYear) to {parquet_path} ...\")\n",
    "# imdb_basics.write.mode(\"overwrite\").partitionBy(\"startYear\").parquet(parquet_path)\n",
    "# print(f\"✅ Successfully saved 'basics' to {parquet_path}!\")"
   ]
  },
  {
   "cell_type": "code",
   "execution_count": null,
   "metadata": {},
   "outputs": [],
   "source": [
    "# parquet_path = os.path.join(RAW_PARQUET_PATH, 'akas.parquet')\n",
    "# print(f\"💾 Saving 'akas' to {parquet_path} ...\")\n",
    "# imdb_dfs['akas'].write.mode('overwrite').parquet(parquet_path)\n",
    "# print(f\"✅ Successfully saved 'akas' to {parquet_path}!\")"
   ]
  },
  {
   "cell_type": "code",
   "execution_count": null,
   "metadata": {},
   "outputs": [],
   "source": [
    "# parquet_path = os.path.join(RAW_PARQUET_PATH, 'crew.parquet')\n",
    "# print(f\"💾 Saving 'crew' to {parquet_path} ...\")\n",
    "# imdb_dfs['crew'].write.mode('overwrite').parquet(parquet_path)\n",
    "# print(f\"✅ Successfully saved 'crew' to {parquet_path}!\")"
   ]
  },
  {
   "cell_type": "code",
   "execution_count": null,
   "metadata": {},
   "outputs": [],
   "source": [
    "# parquet_path = os.path.join(RAW_PARQUET_PATH, 'principals.parquet')\n",
    "# print(f\"💾 Saving 'principals' to {parquet_path} ...\")\n",
    "# imdb_dfs['principals'].write.mode('overwrite').parquet(parquet_path)\n",
    "# print(f\"✅ Successfully saved 'principals' to {parquet_path}!\")"
   ]
  },
  {
   "cell_type": "code",
   "execution_count": null,
   "metadata": {},
   "outputs": [],
   "source": [
    "# parquet_path = os.path.join(RAW_PARQUET_PATH, 'episode.parquet')\n",
    "# print(f\"💾 Saving 'episode' to {parquet_path} ...\")\n",
    "# imdb_dfs['episode'].write.mode('overwrite').parquet(parquet_path)\n",
    "# print(f\"✅ Successfully saved 'episode' to {parquet_path}!\")"
   ]
  },
  {
   "cell_type": "markdown",
   "metadata": {},
   "source": [
    "### Load TMDB data to Spark Dataframes"
   ]
  },
  {
   "cell_type": "code",
   "execution_count": 7,
   "metadata": {
    "execution": {
     "iopub.execute_input": "2025-03-09T10:24:57.005541Z",
     "iopub.status.busy": "2025-03-09T10:24:57.003591Z",
     "iopub.status.idle": "2025-03-09T10:24:57.027233Z",
     "shell.execute_reply": "2025-03-09T10:24:57.024399Z",
     "shell.execute_reply.started": "2025-03-09T10:24:57.005456Z"
    }
   },
   "outputs": [],
   "source": [
    "# Define the schema manually\n",
    "tmdb_schema = StructType([\n",
    "    StructField(\"id\", IntegerType(), True),\n",
    "    StructField(\"title\", StringType(), True),\n",
    "    StructField(\"vote_average\", StringType(), True),\n",
    "    StructField(\"vote_count\", StringType(), True),\n",
    "    StructField(\"status\", StringType(), True),\n",
    "    StructField(\"release_date\", StringType(), True),\n",
    "    StructField(\"revenue\", StringType(), True),\n",
    "    StructField(\"runtime\", StringType(), True),\n",
    "    StructField(\"adult\", StringType(), True),\n",
    "    StructField(\"backdrop_path\", StringType(), True),\n",
    "    StructField(\"budget\", StringType(), True),\n",
    "    StructField(\"homepage\", StringType(), True),\n",
    "    StructField(\"imdb_id\", StringType(), True),\n",
    "    StructField(\"original_language\", StringType(), True),\n",
    "    StructField(\"original_title\", StringType(), True),\n",
    "    StructField(\"overview\", StringType(), True),\n",
    "    StructField(\"popularity\", StringType(), True),\n",
    "    StructField(\"poster_path\", StringType(), True),\n",
    "    StructField(\"tagline\", StringType(), True),\n",
    "    StructField(\"genres\", StringType(), True),\n",
    "    StructField(\"production_companies\", StringType(), True),\n",
    "    StructField(\"production_countries\", StringType(), True),\n",
    "    StructField(\"spoken_languages\", StringType(), True),\n",
    "    StructField(\"keywords\", StringType(), True)\n",
    "])"
   ]
  },
  {
   "cell_type": "code",
   "execution_count": 8,
   "metadata": {
    "execution": {
     "iopub.execute_input": "2025-03-09T10:24:58.542411Z",
     "iopub.status.busy": "2025-03-09T10:24:58.541111Z",
     "iopub.status.idle": "2025-03-09T10:24:59.465958Z",
     "shell.execute_reply": "2025-03-09T10:24:59.463083Z",
     "shell.execute_reply.started": "2025-03-09T10:24:58.542334Z"
    }
   },
   "outputs": [
    {
     "name": "stdout",
     "output_type": "stream",
     "text": [
      "✅ TMDb Data Preview:\n",
      "+------+---------------+------------+----------+--------+------------+----------+-------+-----+--------------------+---------+--------------------+---------+-----------------+---------------+--------------------+--------------------+--------------------+--------------------+--------------------+--------------------+--------------------+--------------------+--------------------+\n",
      "|    id|          title|vote_average|vote_count|  status|release_date|   revenue|runtime|adult|       backdrop_path|   budget|            homepage|  imdb_id|original_language| original_title|            overview|          popularity|         poster_path|             tagline|              genres|production_companies|production_countries|    spoken_languages|            keywords|\n",
      "+------+---------------+------------+----------+--------+------------+----------+-------+-----+--------------------+---------+--------------------+---------+-----------------+---------------+--------------------+--------------------+--------------------+--------------------+--------------------+--------------------+--------------------+--------------------+--------------------+\n",
      "| 27205|      Inception|       8.364|     34495|Released|  2010-07-15| 825532764|    148|False|/8ZTVqvKDQ8emSGUE...|160000000|https://www.warne...|tt1375666|               en|      Inception|\"Cobb, a skilled ...| the implantation...|              83.952|/oYuLEt3zVCKq57qu...|Your mind is the ...|Action, Science F...|Legendary Picture...|United Kingdom, U...|English, French, ...|\n",
      "|157336|   Interstellar|       8.417|     32571|Released|  2014-11-05| 701729206|    169|False|/pbrkL804c8yAv3zB...|165000000|http://www.inters...|tt0816692|               en|   Interstellar|The adventures of...|             140.241|/gEU2QniE6E77NI6l...|Mankind was born ...|Adventure, Drama,...|Legendary Picture...|United Kingdom, U...|             English|rescue, future, s...|\n",
      "|   155|The Dark Knight|       8.512|     30619|Released|  2008-07-16|1004558444|    152|False|/nMKdUUepR0i5zn0y...|185000000|https://www.warne...|tt0468569|               en|The Dark Knight|Batman raises the...|             130.643|/qJ2tW6WMUDux911r...|Welcome to a worl...|Drama, Action, Cr...|DC Comics, Legend...|United Kingdom, U...|   English, Mandarin|joker, sadism, ch...|\n",
      "| 19995|         Avatar|       7.573|     29815|Released|  2009-12-15|2923706026|    162|False|/vL5LR6WdxWPjLPFR...|237000000|https://www.avata...|tt0499549|               en|         Avatar|In the 22nd centu...|              79.932|/kyeqWdyUXW608qlY...|Enter the world o...|Action, Adventure...|Dune Entertainmen...|United States of ...|    English, Spanish|future, society, ...|\n",
      "| 24428|   The Avengers|        7.71|     29166|Released|  2012-04-25|1518815515|    143|False|/9BBTo63ANSmhC4e6...|220000000|https://www.marve...|tt0848228|               en|   The Avengers|When an unexpecte...|              98.082|/RYMX2wcKCBAr24Uy...|Some assembly req...|Science Fiction, ...|      Marvel Studios|United States of ...|English, Hindi, R...|new york city, su...|\n",
      "+------+---------------+------------+----------+--------+------------+----------+-------+-----+--------------------+---------+--------------------+---------+-----------------+---------------+--------------------+--------------------+--------------------+--------------------+--------------------+--------------------+--------------------+--------------------+--------------------+\n",
      "only showing top 5 rows\n",
      "\n"
     ]
    }
   ],
   "source": [
    "# Read the CSV using the explicitly defined schema\n",
    "tmdb_path = os.path.join(TMDB_PATH, 'TMDB_movie_dataset_v11.csv')\n",
    "\n",
    "tmdb_df = spark.read.csv(\n",
    "    tmdb_path,\n",
    "    header=True,\n",
    "    schema=tmdb_schema,  # Explicit schema\n",
    "    nullValue='\\\\N'\n",
    ")\n",
    "\n",
    "# Print Data Preview\n",
    "print(\"✅ TMDb Data Preview:\")\n",
    "tmdb_df.show(5)"
   ]
  },
  {
   "cell_type": "markdown",
   "metadata": {},
   "source": [
    "### Save TMDB file to Parquet"
   ]
  },
  {
   "cell_type": "code",
   "execution_count": null,
   "metadata": {},
   "outputs": [],
   "source": [
    "# TMDB_PARQUET_PATH = '../data/raw_parquet'\n",
    "# os.makedirs(TMDB_PARQUET_PATH, exist_ok=True)\n",
    "\n",
    "# tmdb_df.write.mode('overwrite').parquet(os.path.join(TMDB_PARQUET_PATH, 'TMDB_movie_dataset_v11.parquet'))\n",
    "# print(\"Saved TMDb to parquet\")"
   ]
  },
  {
   "cell_type": "markdown",
   "metadata": {},
   "source": [
    "<h2 style=\"color:#de4a48; background-color:#fce19a; padding: 10px; text-align:left; border: 1px solid #fce19a;\">Exploratory Data Analysis</h2>"
   ]
  },
  {
   "cell_type": "markdown",
   "metadata": {},
   "source": [
    "### Preliminary EDA"
   ]
  },
  {
   "cell_type": "code",
   "execution_count": 8,
   "metadata": {},
   "outputs": [
    {
     "name": "stdout",
     "output_type": "stream",
     "text": [
      "Row counts per file:\n",
      "basics: 11,485,855 rows\n",
      "akas: 51,496,209 rows\n",
      "crew: 11,485,855 rows\n",
      "episode: 8,832,680 rows\n",
      "principals: 91,154,932 rows\n",
      "ratings: 1,539,107 rows\n",
      "names: 14,217,591 rows\n",
      "+--------+--------+\n",
      "|min_year|max_year|\n",
      "+--------+--------+\n",
      "|    1874|    2031|\n",
      "+--------+--------+\n",
      "\n",
      "+-----------+-------+\n",
      "|      genre|  count|\n",
      "+-----------+-------+\n",
      "|      Drama|3237636|\n",
      "|     Comedy|2236773|\n",
      "|  Talk-Show|1424798|\n",
      "|      Short|1228429|\n",
      "|Documentary|1096234|\n",
      "|       News|1080456|\n",
      "|    Romance|1072271|\n",
      "|     Family| 844672|\n",
      "| Reality-TV| 643344|\n",
      "|  Animation| 572468|\n",
      "+-----------+-------+\n",
      "only showing top 10 rows\n",
      "\n"
     ]
    }
   ],
   "source": [
    "imdb_basics = imdb_dfs['basics']\n",
    "\n",
    "# Total counts for each dataset\n",
    "print(\"Row counts per file:\")\n",
    "for name, df in imdb_dfs.items():\n",
    "    print(f\"{name}: {df.count():,} rows\")\n",
    "\n",
    "# Date range in imdb_basics\n",
    "date_range = imdb_basics.select(min(col(\"startYear\")).alias(\"min_year\"), max(col(\"startYear\")).alias(\"max_year\"))\n",
    "date_range.show()\n",
    "\n",
    "# Top genres\n",
    "genres_exploded = imdb_basics.withColumn(\"genre\", explode(split(col(\"genres\"), \",\")))\n",
    "top_genres = genres_exploded.groupBy(\"genre\").count().orderBy(col(\"count\").desc())\n",
    "top_genres.show(10)"
   ]
  },
  {
   "cell_type": "markdown",
   "metadata": {},
   "source": [
    "### Loading Using Parquet Files"
   ]
  },
  {
   "cell_type": "code",
   "execution_count": null,
   "metadata": {},
   "outputs": [],
   "source": [
    "# # Load from saved Parquets (raw)\n",
    "# imdb_dfs = {}\n",
    "# imdb_files = [\"basics\", \"akas\", \"crew\", \"episode\", \"principals\", \"ratings\", \"names\"]\n",
    "\n",
    "# for name in imdb_files:\n",
    "#     path = os.path.join(RAW_PARQUET_PATH, f'{name}.parquet')\n",
    "#     imdb_dfs[name] = spark.read.parquet(path)"
   ]
  },
  {
   "cell_type": "markdown",
   "metadata": {},
   "source": [
    "### Filter to `movies` only"
   ]
  },
  {
   "cell_type": "code",
   "execution_count": 9,
   "metadata": {
    "execution": {
     "iopub.execute_input": "2025-03-09T10:25:25.255745Z",
     "iopub.status.busy": "2025-03-09T10:25:25.253363Z",
     "iopub.status.idle": "2025-03-09T10:25:25.465886Z",
     "shell.execute_reply": "2025-03-09T10:25:25.464493Z",
     "shell.execute_reply.started": "2025-03-09T10:25:25.255650Z"
    }
   },
   "outputs": [],
   "source": [
    "imdb_basics_filtered = imdb_dfs['basics'].filter(col(\"titleType\") == \"movie\")"
   ]
  },
  {
   "cell_type": "code",
   "execution_count": 14,
   "metadata": {
    "execution": {
     "iopub.execute_input": "2025-03-09T08:48:08.967705Z",
     "iopub.status.busy": "2025-03-09T08:48:08.967277Z",
     "iopub.status.idle": "2025-03-09T08:48:24.720690Z",
     "shell.execute_reply": "2025-03-09T08:48:24.719524Z",
     "shell.execute_reply.started": "2025-03-09T08:48:08.967667Z"
    }
   },
   "outputs": [
    {
     "data": {
      "text/html": [
       "<div>\n",
       "<style scoped>\n",
       "    .dataframe tbody tr th:only-of-type {\n",
       "        vertical-align: middle;\n",
       "    }\n",
       "\n",
       "    .dataframe tbody tr th {\n",
       "        vertical-align: top;\n",
       "    }\n",
       "\n",
       "    .dataframe thead th {\n",
       "        text-align: right;\n",
       "    }\n",
       "</style>\n",
       "<table border=\"1\" class=\"dataframe\">\n",
       "  <thead>\n",
       "    <tr style=\"text-align: right;\">\n",
       "      <th></th>\n",
       "      <th>tconst</th>\n",
       "      <th>titleType</th>\n",
       "      <th>primaryTitle</th>\n",
       "      <th>originalTitle</th>\n",
       "      <th>isAdult</th>\n",
       "      <th>startYear</th>\n",
       "      <th>endYear</th>\n",
       "      <th>runtimeMinutes</th>\n",
       "      <th>genres</th>\n",
       "    </tr>\n",
       "  </thead>\n",
       "  <tbody>\n",
       "    <tr>\n",
       "      <th>0</th>\n",
       "      <td>tt0000009</td>\n",
       "      <td>movie</td>\n",
       "      <td>Miss Jerry</td>\n",
       "      <td>Miss Jerry</td>\n",
       "      <td>0</td>\n",
       "      <td>1894</td>\n",
       "      <td>NaN</td>\n",
       "      <td>45</td>\n",
       "      <td>Romance</td>\n",
       "    </tr>\n",
       "    <tr>\n",
       "      <th>1</th>\n",
       "      <td>tt0000147</td>\n",
       "      <td>movie</td>\n",
       "      <td>The Corbett-Fitzsimmons Fight</td>\n",
       "      <td>The Corbett-Fitzsimmons Fight</td>\n",
       "      <td>0</td>\n",
       "      <td>1897</td>\n",
       "      <td>NaN</td>\n",
       "      <td>100</td>\n",
       "      <td>Documentary,News,Sport</td>\n",
       "    </tr>\n",
       "    <tr>\n",
       "      <th>2</th>\n",
       "      <td>tt0000502</td>\n",
       "      <td>movie</td>\n",
       "      <td>Bohemios</td>\n",
       "      <td>Bohemios</td>\n",
       "      <td>0</td>\n",
       "      <td>1905</td>\n",
       "      <td>NaN</td>\n",
       "      <td>100</td>\n",
       "      <td>None</td>\n",
       "    </tr>\n",
       "    <tr>\n",
       "      <th>3</th>\n",
       "      <td>tt0000574</td>\n",
       "      <td>movie</td>\n",
       "      <td>The Story of the Kelly Gang</td>\n",
       "      <td>The Story of the Kelly Gang</td>\n",
       "      <td>0</td>\n",
       "      <td>1906</td>\n",
       "      <td>NaN</td>\n",
       "      <td>70</td>\n",
       "      <td>Action,Adventure,Biography</td>\n",
       "    </tr>\n",
       "    <tr>\n",
       "      <th>4</th>\n",
       "      <td>tt0000591</td>\n",
       "      <td>movie</td>\n",
       "      <td>The Prodigal Son</td>\n",
       "      <td>L'enfant prodigue</td>\n",
       "      <td>0</td>\n",
       "      <td>1907</td>\n",
       "      <td>NaN</td>\n",
       "      <td>90</td>\n",
       "      <td>Drama</td>\n",
       "    </tr>\n",
       "  </tbody>\n",
       "</table>\n",
       "</div>"
      ],
      "text/plain": [
       "      tconst titleType                   primaryTitle  \\\n",
       "0  tt0000009     movie                     Miss Jerry   \n",
       "1  tt0000147     movie  The Corbett-Fitzsimmons Fight   \n",
       "2  tt0000502     movie                       Bohemios   \n",
       "3  tt0000574     movie    The Story of the Kelly Gang   \n",
       "4  tt0000591     movie               The Prodigal Son   \n",
       "\n",
       "                   originalTitle  isAdult  startYear  endYear runtimeMinutes  \\\n",
       "0                     Miss Jerry        0       1894      NaN             45   \n",
       "1  The Corbett-Fitzsimmons Fight        0       1897      NaN            100   \n",
       "2                       Bohemios        0       1905      NaN            100   \n",
       "3    The Story of the Kelly Gang        0       1906      NaN             70   \n",
       "4              L'enfant prodigue        0       1907      NaN             90   \n",
       "\n",
       "                       genres  \n",
       "0                     Romance  \n",
       "1      Documentary,News,Sport  \n",
       "2                        None  \n",
       "3  Action,Adventure,Biography  \n",
       "4                       Drama  "
      ]
     },
     "metadata": {},
     "output_type": "display_data"
    }
   ],
   "source": [
    "display(imdb_basics_filtered.limit(5).toPandas())"
   ]
  },
  {
   "cell_type": "code",
   "execution_count": 10,
   "metadata": {
    "execution": {
     "iopub.execute_input": "2025-03-09T10:25:27.498037Z",
     "iopub.status.busy": "2025-03-09T10:25:27.496103Z",
     "iopub.status.idle": "2025-03-09T10:25:27.909231Z",
     "shell.execute_reply": "2025-03-09T10:25:27.901328Z",
     "shell.execute_reply.started": "2025-03-09T10:25:27.497863Z"
    }
   },
   "outputs": [],
   "source": [
    "# Filter akas\n",
    "imdb_akas_filtered = imdb_dfs['akas'] \\\n",
    "    .join(imdb_basics_filtered.select(\"tconst\"), imdb_dfs['akas'].titleId == imdb_basics_filtered.tconst, \"inner\") \\\n",
    "    .drop(\"tconst\")"
   ]
  },
  {
   "cell_type": "code",
   "execution_count": 16,
   "metadata": {
    "execution": {
     "iopub.execute_input": "2025-03-09T08:50:17.176103Z",
     "iopub.status.busy": "2025-03-09T08:50:17.175208Z",
     "iopub.status.idle": "2025-03-09T08:53:34.601632Z",
     "shell.execute_reply": "2025-03-09T08:53:34.600538Z",
     "shell.execute_reply.started": "2025-03-09T08:50:17.175979Z"
    }
   },
   "outputs": [
    {
     "data": {
      "text/html": [
       "<div>\n",
       "<style scoped>\n",
       "    .dataframe tbody tr th:only-of-type {\n",
       "        vertical-align: middle;\n",
       "    }\n",
       "\n",
       "    .dataframe tbody tr th {\n",
       "        vertical-align: top;\n",
       "    }\n",
       "\n",
       "    .dataframe thead th {\n",
       "        text-align: right;\n",
       "    }\n",
       "</style>\n",
       "<table border=\"1\" class=\"dataframe\">\n",
       "  <thead>\n",
       "    <tr style=\"text-align: right;\">\n",
       "      <th></th>\n",
       "      <th>titleId</th>\n",
       "      <th>ordering</th>\n",
       "      <th>title</th>\n",
       "      <th>region</th>\n",
       "      <th>language</th>\n",
       "      <th>types</th>\n",
       "      <th>attributes</th>\n",
       "      <th>isOriginalTitle</th>\n",
       "    </tr>\n",
       "  </thead>\n",
       "  <tbody>\n",
       "    <tr>\n",
       "      <th>0</th>\n",
       "      <td>tt0000862</td>\n",
       "      <td>1</td>\n",
       "      <td>Faldgruben</td>\n",
       "      <td>None</td>\n",
       "      <td>None</td>\n",
       "      <td>original</td>\n",
       "      <td>None</td>\n",
       "      <td>1</td>\n",
       "    </tr>\n",
       "    <tr>\n",
       "      <th>1</th>\n",
       "      <td>tt0000862</td>\n",
       "      <td>2</td>\n",
       "      <td>Faldgruben</td>\n",
       "      <td>DK</td>\n",
       "      <td>None</td>\n",
       "      <td>imdbDisplay</td>\n",
       "      <td>None</td>\n",
       "      <td>0</td>\n",
       "    </tr>\n",
       "    <tr>\n",
       "      <th>2</th>\n",
       "      <td>tt0000941</td>\n",
       "      <td>1</td>\n",
       "      <td>Locura de amor</td>\n",
       "      <td>None</td>\n",
       "      <td>None</td>\n",
       "      <td>original</td>\n",
       "      <td>None</td>\n",
       "      <td>1</td>\n",
       "    </tr>\n",
       "    <tr>\n",
       "      <th>3</th>\n",
       "      <td>tt0000941</td>\n",
       "      <td>2</td>\n",
       "      <td>Locura de amor</td>\n",
       "      <td>ES</td>\n",
       "      <td>None</td>\n",
       "      <td>imdbDisplay</td>\n",
       "      <td>None</td>\n",
       "      <td>0</td>\n",
       "    </tr>\n",
       "    <tr>\n",
       "      <th>4</th>\n",
       "      <td>tt0000941</td>\n",
       "      <td>3</td>\n",
       "      <td>Love Crazy</td>\n",
       "      <td>XWW</td>\n",
       "      <td>en</td>\n",
       "      <td>None</td>\n",
       "      <td>informal literal title</td>\n",
       "      <td>0</td>\n",
       "    </tr>\n",
       "  </tbody>\n",
       "</table>\n",
       "</div>"
      ],
      "text/plain": [
       "     titleId  ordering           title region language        types  \\\n",
       "0  tt0000862         1      Faldgruben   None     None     original   \n",
       "1  tt0000862         2      Faldgruben     DK     None  imdbDisplay   \n",
       "2  tt0000941         1  Locura de amor   None     None     original   \n",
       "3  tt0000941         2  Locura de amor     ES     None  imdbDisplay   \n",
       "4  tt0000941         3      Love Crazy    XWW       en         None   \n",
       "\n",
       "               attributes  isOriginalTitle  \n",
       "0                    None                1  \n",
       "1                    None                0  \n",
       "2                    None                1  \n",
       "3                    None                0  \n",
       "4  informal literal title                0  "
      ]
     },
     "metadata": {},
     "output_type": "display_data"
    }
   ],
   "source": [
    "display(imdb_akas_filtered.limit(5).toPandas())"
   ]
  },
  {
   "cell_type": "code",
   "execution_count": 11,
   "metadata": {
    "execution": {
     "iopub.execute_input": "2025-03-09T10:25:36.542720Z",
     "iopub.status.busy": "2025-03-09T10:25:36.539486Z",
     "iopub.status.idle": "2025-03-09T10:25:36.673226Z",
     "shell.execute_reply": "2025-03-09T10:25:36.671589Z",
     "shell.execute_reply.started": "2025-03-09T10:25:36.542572Z"
    }
   },
   "outputs": [],
   "source": [
    "# Filter ratings\n",
    "imdb_ratings_filtered = imdb_dfs['ratings'] \\\n",
    "    .join(imdb_basics_filtered.select(\"tconst\"), \"tconst\", \"inner\")"
   ]
  },
  {
   "cell_type": "code",
   "execution_count": 17,
   "metadata": {
    "execution": {
     "iopub.execute_input": "2025-03-09T08:53:53.288830Z",
     "iopub.status.busy": "2025-03-09T08:53:53.285979Z",
     "iopub.status.idle": "2025-03-09T08:54:46.599262Z",
     "shell.execute_reply": "2025-03-09T08:54:46.597616Z",
     "shell.execute_reply.started": "2025-03-09T08:53:53.288633Z"
    }
   },
   "outputs": [
    {
     "data": {
      "text/html": [
       "<div>\n",
       "<style scoped>\n",
       "    .dataframe tbody tr th:only-of-type {\n",
       "        vertical-align: middle;\n",
       "    }\n",
       "\n",
       "    .dataframe tbody tr th {\n",
       "        vertical-align: top;\n",
       "    }\n",
       "\n",
       "    .dataframe thead th {\n",
       "        text-align: right;\n",
       "    }\n",
       "</style>\n",
       "<table border=\"1\" class=\"dataframe\">\n",
       "  <thead>\n",
       "    <tr style=\"text-align: right;\">\n",
       "      <th></th>\n",
       "      <th>tconst</th>\n",
       "      <th>averageRating</th>\n",
       "      <th>numVotes</th>\n",
       "    </tr>\n",
       "  </thead>\n",
       "  <tbody>\n",
       "    <tr>\n",
       "      <th>0</th>\n",
       "      <td>tt0000630</td>\n",
       "      <td>3.1</td>\n",
       "      <td>31</td>\n",
       "    </tr>\n",
       "    <tr>\n",
       "      <th>1</th>\n",
       "      <td>tt0000675</td>\n",
       "      <td>4.2</td>\n",
       "      <td>22</td>\n",
       "    </tr>\n",
       "    <tr>\n",
       "      <th>2</th>\n",
       "      <td>tt0000862</td>\n",
       "      <td>4.4</td>\n",
       "      <td>18</td>\n",
       "    </tr>\n",
       "    <tr>\n",
       "      <th>3</th>\n",
       "      <td>tt0000941</td>\n",
       "      <td>4.6</td>\n",
       "      <td>29</td>\n",
       "    </tr>\n",
       "    <tr>\n",
       "      <th>4</th>\n",
       "      <td>tt0001112</td>\n",
       "      <td>3.9</td>\n",
       "      <td>52</td>\n",
       "    </tr>\n",
       "  </tbody>\n",
       "</table>\n",
       "</div>"
      ],
      "text/plain": [
       "      tconst  averageRating  numVotes\n",
       "0  tt0000630            3.1        31\n",
       "1  tt0000675            4.2        22\n",
       "2  tt0000862            4.4        18\n",
       "3  tt0000941            4.6        29\n",
       "4  tt0001112            3.9        52"
      ]
     },
     "metadata": {},
     "output_type": "display_data"
    }
   ],
   "source": [
    "display(imdb_ratings_filtered.limit(5).toPandas())"
   ]
  },
  {
   "cell_type": "code",
   "execution_count": 12,
   "metadata": {
    "execution": {
     "iopub.execute_input": "2025-03-09T10:25:39.481133Z",
     "iopub.status.busy": "2025-03-09T10:25:39.480267Z",
     "iopub.status.idle": "2025-03-09T10:25:39.539949Z",
     "shell.execute_reply": "2025-03-09T10:25:39.537891Z",
     "shell.execute_reply.started": "2025-03-09T10:25:39.481068Z"
    }
   },
   "outputs": [],
   "source": [
    "# Filter principals\n",
    "imdb_principals_filtered = imdb_dfs['principals'] \\\n",
    "    .join(imdb_basics_filtered.select(\"tconst\"), \"tconst\", \"inner\")\n",
    "# display(imdb_principals_filtered.limit(5).toPandas())"
   ]
  },
  {
   "cell_type": "code",
   "execution_count": 13,
   "metadata": {
    "execution": {
     "iopub.execute_input": "2025-03-09T10:25:39.745567Z",
     "iopub.status.busy": "2025-03-09T10:25:39.744458Z",
     "iopub.status.idle": "2025-03-09T10:25:39.801801Z",
     "shell.execute_reply": "2025-03-09T10:25:39.792860Z",
     "shell.execute_reply.started": "2025-03-09T10:25:39.745514Z"
    }
   },
   "outputs": [],
   "source": [
    "# Filter crew\n",
    "imdb_crew_filtered = imdb_dfs['crew'] \\\n",
    "    .join(imdb_basics_filtered.select(\"tconst\"), \"tconst\", \"inner\")\n",
    "# display(imdb_crew_filtered.limit(5).toPandas())"
   ]
  },
  {
   "cell_type": "code",
   "execution_count": 14,
   "metadata": {
    "execution": {
     "iopub.execute_input": "2025-03-09T10:25:40.111662Z",
     "iopub.status.busy": "2025-03-09T10:25:40.109775Z",
     "iopub.status.idle": "2025-03-09T10:25:40.122849Z",
     "shell.execute_reply": "2025-03-09T10:25:40.120332Z",
     "shell.execute_reply.started": "2025-03-09T10:25:40.111583Z"
    }
   },
   "outputs": [],
   "source": [
    "# For now, leaving `names` alone since it's a people table not directly tied to titleType.\n",
    "imdb_names = imdb_dfs['names']\n",
    "# display(imdb_names.limit(5).toPandas())"
   ]
  },
  {
   "cell_type": "code",
   "execution_count": 15,
   "metadata": {
    "execution": {
     "iopub.execute_input": "2025-03-09T10:25:40.582694Z",
     "iopub.status.busy": "2025-03-09T10:25:40.581398Z",
     "iopub.status.idle": "2025-03-09T10:25:40.593804Z",
     "shell.execute_reply": "2025-03-09T10:25:40.591612Z",
     "shell.execute_reply.started": "2025-03-09T10:25:40.582627Z"
    }
   },
   "outputs": [],
   "source": [
    "# Episodes is usually for TV shows, so we can skip it, or handle if needed later.\n",
    "imdb_episodes = imdb_dfs['episode']\n",
    "# display(imdb_episodes.limit(5).toPandas())"
   ]
  },
  {
   "cell_type": "markdown",
   "metadata": {},
   "source": [
    "#### Record Counts after Filtering"
   ]
  },
  {
   "cell_type": "code",
   "execution_count": null,
   "metadata": {},
   "outputs": [],
   "source": [
    "# imdb_basics_filtered.count()\n",
    "# imdb_akas_filtered.count()\n",
    "# imdb_ratings_filtered.count()\n",
    "# imdb_principals_filtered.count()\n",
    "# imdb_crew_filtered.count()"
   ]
  },
  {
   "cell_type": "code",
   "execution_count": null,
   "metadata": {},
   "outputs": [],
   "source": [
    "# tmdb_movies.count()"
   ]
  },
  {
   "cell_type": "markdown",
   "metadata": {},
   "source": [
    "#### Schema Checks"
   ]
  },
  {
   "cell_type": "code",
   "execution_count": 9,
   "metadata": {},
   "outputs": [
    {
     "name": "stdout",
     "output_type": "stream",
     "text": [
      "Schema for IMDb file: basics\n",
      "root\n",
      " |-- tconst: string (nullable = true)\n",
      " |-- titleType: string (nullable = true)\n",
      " |-- primaryTitle: string (nullable = true)\n",
      " |-- originalTitle: string (nullable = true)\n",
      " |-- isAdult: integer (nullable = true)\n",
      " |-- startYear: integer (nullable = true)\n",
      " |-- endYear: integer (nullable = true)\n",
      " |-- runtimeMinutes: string (nullable = true)\n",
      " |-- genres: string (nullable = true)\n",
      "\n",
      "========================================\n",
      "Schema for IMDb file: akas\n",
      "root\n",
      " |-- titleId: string (nullable = true)\n",
      " |-- ordering: integer (nullable = true)\n",
      " |-- title: string (nullable = true)\n",
      " |-- region: string (nullable = true)\n",
      " |-- language: string (nullable = true)\n",
      " |-- types: string (nullable = true)\n",
      " |-- attributes: string (nullable = true)\n",
      " |-- isOriginalTitle: integer (nullable = true)\n",
      "\n",
      "========================================\n",
      "Schema for IMDb file: crew\n",
      "root\n",
      " |-- tconst: string (nullable = true)\n",
      " |-- directors: string (nullable = true)\n",
      " |-- writers: string (nullable = true)\n",
      "\n",
      "========================================\n",
      "Schema for IMDb file: episode\n",
      "root\n",
      " |-- tconst: string (nullable = true)\n",
      " |-- parentTconst: string (nullable = true)\n",
      " |-- seasonNumber: integer (nullable = true)\n",
      " |-- episodeNumber: integer (nullable = true)\n",
      "\n",
      "========================================\n",
      "Schema for IMDb file: principals\n",
      "root\n",
      " |-- tconst: string (nullable = true)\n",
      " |-- ordering: integer (nullable = true)\n",
      " |-- nconst: string (nullable = true)\n",
      " |-- category: string (nullable = true)\n",
      " |-- job: string (nullable = true)\n",
      " |-- characters: string (nullable = true)\n",
      "\n",
      "========================================\n",
      "Schema for IMDb file: ratings\n",
      "root\n",
      " |-- tconst: string (nullable = true)\n",
      " |-- averageRating: double (nullable = true)\n",
      " |-- numVotes: integer (nullable = true)\n",
      "\n",
      "========================================\n",
      "Schema for IMDb file: names\n",
      "root\n",
      " |-- nconst: string (nullable = true)\n",
      " |-- primaryName: string (nullable = true)\n",
      " |-- birthYear: integer (nullable = true)\n",
      " |-- deathYear: integer (nullable = true)\n",
      " |-- primaryProfession: string (nullable = true)\n",
      " |-- knownForTitles: string (nullable = true)\n",
      "\n",
      "========================================\n",
      "Schema for TMDb file:\n",
      "root\n",
      " |-- id: integer (nullable = true)\n",
      " |-- title: string (nullable = true)\n",
      " |-- vote_average: string (nullable = true)\n",
      " |-- vote_count: string (nullable = true)\n",
      " |-- status: string (nullable = true)\n",
      " |-- release_date: string (nullable = true)\n",
      " |-- revenue: string (nullable = true)\n",
      " |-- runtime: string (nullable = true)\n",
      " |-- adult: string (nullable = true)\n",
      " |-- backdrop_path: string (nullable = true)\n",
      " |-- budget: string (nullable = true)\n",
      " |-- homepage: string (nullable = true)\n",
      " |-- imdb_id: string (nullable = true)\n",
      " |-- original_language: string (nullable = true)\n",
      " |-- original_title: string (nullable = true)\n",
      " |-- overview: string (nullable = true)\n",
      " |-- popularity: string (nullable = true)\n",
      " |-- poster_path: string (nullable = true)\n",
      " |-- tagline: string (nullable = true)\n",
      " |-- genres: string (nullable = true)\n",
      " |-- production_companies: string (nullable = true)\n",
      " |-- production_countries: string (nullable = true)\n",
      " |-- spoken_languages: string (nullable = true)\n",
      " |-- keywords: string (nullable = true)\n",
      "\n"
     ]
    }
   ],
   "source": [
    "# Print schemas for IMDb files\n",
    "for name, df in imdb_dfs.items():\n",
    "    print(f\"Schema for IMDb file: {name}\")\n",
    "    df.printSchema()\n",
    "    print(\"=\"*40)  # Just for cleaner separation\n",
    "\n",
    "# Print schema for TMDb file\n",
    "print(\"Schema for TMDb file:\")\n",
    "tmdb_df.printSchema()"
   ]
  },
  {
   "cell_type": "markdown",
   "metadata": {},
   "source": [
    "### 1. Highest Rated Movies in 2023"
   ]
  },
  {
   "cell_type": "markdown",
   "metadata": {},
   "source": [
    "**Balancing Ratings and Number of Votes:**\n",
    "\n",
    "https://www.reddit.com/r/statistics/comments/1niai5/imbd_weighted_average/\n",
    "\n",
    "\"The formula for calculating the Top Rated 250 Titles gives a true Bayesian estimate:\n",
    "\n",
    "weighted rating (WR) = (v ÷ (v+m)) × R + (m ÷ (v+m)) × C\n",
    "\n",
    "where: R = average for the movie (mean) = (Rating) v = number of votes for the movie = (votes) m = minimum votes required to be listed in the Top 250 (currently 25000) C = the mean vote across the whole report (currently 7.0) \"\n",
    "\n",
    "Anyway, to expand on what sin7 has said, I'm guessing what IMDB has found is that the first couple of thousand voters for a movie probably give ratings that differ from how the majority of people will rate the movie in the long run. So for example, if there's a tendency for people who love a movie to go straight home from the midnight screening and vote right away, as opposed to those who thought the movie was \"meh\" and decide they'll get around to it when they check their emails the next day, then what you'll see is that movie ratings straight after a screening will be quite high, and then they will decline over time as everyone else votes.\n",
    "\n",
    "That's just one example, and voting trends could be different in other ways too (for example it might be the opposite case that 'haters' always get in first). That doesn't matter too much, but what their weighted rating (WR) does is effectively buffers out these early effects (although I doubt it does it perfectly). To do this it gives weighting or credence to both the current rating of the movie (as denoted by R) and the average rating of all movies in their report (as denoted by C), with the relative credence of each being based on the number of votes given to the individual movie.\n",
    "\n",
    "If we break down the equation we can see the actual weightings,\n",
    "\n",
    "with the weighting for R, the current rating, being decided by:\n",
    "\n",
    "v ÷ (v+m)) × R\n",
    "\n",
    "and the weighting for C, the overall rating, being decided by:\n",
    "\n",
    "m ÷ (v+m)) × C\n",
    "\n",
    "By looking at these we can see that the more votes an individual movie has, the stronger the weighting on the movies actual vote and the weaker the weighting on the average vote for all movies. In other words the equation says: \"The more votes a movie has, the more we trust its rating.\"\n",
    "\n",
    "We can see how this plays out if we plug in a few numbers. Let's say the newest Adam Sandler film comes out and it's the next Godfather--everyone who ever votes on it gives it a 10 out of 10.\n",
    "\n",
    "So at 500 votes\n",
    "\n",
    "Weighted Rating (WR) = (500 ÷ ( 500 + 25000)) x 10.0 + (25000 ÷ (500 + 25000)) × 7.0\n",
    "\n",
    "WR = .2 + 6.86 [the left value is the contribution from the movie's rating, the right from the average of all movies]\n",
    "\n",
    "WR = 7.06\n",
    "\n",
    "at 25000 votes\n",
    "\n",
    "WR = (25000 ÷ (500 + 25000)) x 10.0 + (25000 ÷ (25000 + 25000)) × 7.0\n",
    "\n",
    "WR = 5 + 3.5\n",
    "\n",
    "WR = 8.5\n",
    "\n",
    "at 1 million votes\n",
    "\n",
    "WR = (1 million ÷ (1 million + 25000)) x 10.0 + (1 million ÷ (25000 + 25000)) × 7.0\n",
    "\n",
    "WR = 9.76 + .17\n",
    "\n",
    "WR = 9.93\n",
    "\n",
    "So yeah.\n",
    "\n",
    "As for how they've come up with the equation, I don't know if it reflects some sort of best-practice (again, not an expert on this stuff), but it looks kind of arbitrary to me. For example, you can change how much you care about every other movie by simply changing the value of m. So if the number of filmgoers/users on IMDB increased 10 fold, and voting patterns stayed the same, you could just multiply the m term by 10 to compensate.\n",
    "\n",
    "https://math.stackexchange.com/questions/169032/understanding-the-imdb-weighted-rating-function-for-usage-on-my-own-website\n",
    "\n",
    "The formula is just a weighted average of the \"naive-individual\" rating for this movie (item) and a (sort of) \"a priori-noncommittal\" rating. The idea is that, if you have very few votes for your particular movie, you don't put much trust on it, and lean instead towards a conservative estimate, the \"a priori\" noncommittal rating: for example, the average rating across your entire universe. When the number of votes for your particular movie gets bigger, you trust that individual rating more.\n",
    "\n",
    "Once you grap the concept, you have quite freedom to prescribe your weights and the \"a priori\" rating. The important restrictions are: the weights must be in the (0,1)\n",
    " range and sum up to one; the weight of the \"a priori\" rating should tend to 1\n",
    " if the movie has few votes, and to 0\n",
    " if it has many.\n",
    "\n",
    "This is sometimes -loosely- called \"bayesian rating\". See related: https://math.stackexchange.com/a/41513/312\n",
    "\n",
    "https://www.imdb.com/chart/top/?ref_=nb_mv_3_chttp"
   ]
  },
  {
   "cell_type": "markdown",
   "metadata": {},
   "source": [
    "#### Filter 2023 Data"
   ]
  },
  {
   "cell_type": "code",
   "execution_count": 17,
   "metadata": {
    "execution": {
     "iopub.execute_input": "2025-03-09T10:27:06.575010Z",
     "iopub.status.busy": "2025-03-09T10:27:06.572451Z",
     "iopub.status.idle": "2025-03-09T10:27:06.723258Z",
     "shell.execute_reply": "2025-03-09T10:27:06.720617Z",
     "shell.execute_reply.started": "2025-03-09T10:27:06.574899Z"
    }
   },
   "outputs": [],
   "source": [
    "# Filter for movies released in 2023\n",
    "movies_2023 = imdb_basics_filtered.filter(col(\"startYear\") == 2023)\n",
    "\n",
    "# Merge with ratings\n",
    "movie_ratings_2023 = movies_2023.join(imdb_ratings_filtered, \"tconst\", \"inner\")"
   ]
  },
  {
   "cell_type": "code",
   "execution_count": 18,
   "metadata": {
    "execution": {
     "iopub.execute_input": "2025-03-09T10:27:13.618809Z",
     "iopub.status.busy": "2025-03-09T10:27:13.616260Z",
     "iopub.status.idle": "2025-03-09T10:27:13.683431Z",
     "shell.execute_reply": "2025-03-09T10:27:13.680276Z",
     "shell.execute_reply.started": "2025-03-09T10:27:13.618696Z"
    }
   },
   "outputs": [],
   "source": [
    "# Drop rows with missing values in critical columns\n",
    "movie_ratings_2023 = movie_ratings_2023.dropna(subset=[\"averageRating\", \"numVotes\"])"
   ]
  },
  {
   "cell_type": "code",
   "execution_count": 19,
   "metadata": {
    "execution": {
     "iopub.execute_input": "2025-03-09T10:28:21.989325Z",
     "iopub.status.busy": "2025-03-09T10:28:21.987433Z",
     "iopub.status.idle": "2025-03-09T10:31:06.583457Z",
     "shell.execute_reply": "2025-03-09T10:31:06.582351Z",
     "shell.execute_reply.started": "2025-03-09T10:28:21.989240Z"
    }
   },
   "outputs": [],
   "source": [
    "# Compute the Weighted Rating (WR) using IMDb's formula:\n",
    "# WR = (v / (v + m)) * R + (m / (v + m)) * C\n",
    "\n",
    "# Compute the global mean rating (C) and the vote count threshold (m)\n",
    "C = movie_ratings_2023.select(avg(\"averageRating\")).collect()[0][0]  # Mean rating across all movies\n",
    "m = movie_ratings_2023.approxQuantile(\"numVotes\", [0.75], 0.01)[0]  # 75th percentile of votes\n",
    "\n",
    "# Filter movies with votes >= m (qualified movies)\n",
    "qualified_movies = movie_ratings_2023.filter(col(\"numVotes\") >= m)\n",
    "\n",
    "qualified_movies = qualified_movies.withColumn(\n",
    "    \"weightedRating\",\n",
    "    (col(\"numVotes\") / (col(\"numVotes\") + lit(m))) * col(\"averageRating\") +\n",
    "    (lit(m) / (col(\"numVotes\") + lit(m))) * lit(C)\n",
    ")"
   ]
  },
  {
   "cell_type": "code",
   "execution_count": 20,
   "metadata": {
    "execution": {
     "iopub.execute_input": "2025-03-09T10:31:06.585195Z",
     "iopub.status.busy": "2025-03-09T10:31:06.584864Z",
     "iopub.status.idle": "2025-03-09T10:31:06.615455Z",
     "shell.execute_reply": "2025-03-09T10:31:06.614564Z",
     "shell.execute_reply.started": "2025-03-09T10:31:06.585171Z"
    }
   },
   "outputs": [],
   "source": [
    "# Get the top 20 movies sorted by weighted rating\n",
    "top_20_movies = qualified_movies.orderBy(col(\"weightedRating\").desc()).limit(20)"
   ]
  },
  {
   "cell_type": "code",
   "execution_count": 21,
   "metadata": {
    "execution": {
     "iopub.execute_input": "2025-03-09T10:31:06.616756Z",
     "iopub.status.busy": "2025-03-09T10:31:06.616385Z",
     "iopub.status.idle": "2025-03-09T10:32:17.125946Z",
     "shell.execute_reply": "2025-03-09T10:32:17.124330Z",
     "shell.execute_reply.started": "2025-03-09T10:31:06.616722Z"
    }
   },
   "outputs": [
    {
     "name": "stdout",
     "output_type": "stream",
     "text": [
      "+--------------------+-------------+--------+-----------------+--------------------+--------------+\n",
      "|        primaryTitle|averageRating|numVotes|   weightedRating|              genres|runtimeMinutes|\n",
      "+--------------------+-------------+--------+-----------------+--------------------+--------------+\n",
      "|               Janam|          9.2|    2167|8.852319519951276|               Drama|           129|\n",
      "|           12th Fail|          8.8|  143289|8.794864627409309|     Biography,Drama|           147|\n",
      "|             Suraari|          9.4|     773|8.546419066579709|  Action,Crime,Drama|           139|\n",
      "|               Beega|          9.3|     853|8.531739579671704|            Thriller|          NULL|\n",
      "|          Long Drive|          9.3|     834|8.518935239332901|            Thriller|          NULL|\n",
      "|             Dahanam|          8.8|    2197|8.505388003531564|               Drama|           137|\n",
      "|Spider-Man: Acros...|          8.5|  438847|8.498529865839101|Action,Adventure,...|           140|\n",
      "|THEVR10: A dokume...|          9.0|    1244|8.484765272799681|         Documentary|           112|\n",
      "| 20 Days in Mariupol|          8.5|   24857|8.474342732298991|     Documentary,War|            95|\n",
      "|  Atatürk: 1881-1919|          8.8|    1955|8.473855007890096|Biography,Drama,H...|           132|\n",
      "|Nimmellara Aashir...|          9.5|     617|8.468999103834784|        Comedy,Drama|           124|\n",
      "|Renaissance: A Fi...|          8.6|    3640| 8.42863308992385|   Documentary,Music|           169|\n",
      "|                Nona|          9.4|     634|8.420198056212241|               Drama|           147|\n",
      "|              Ramzan|          9.3|     691|8.406906893520066|               Drama|            96|\n",
      "|               Kaiva|          8.4|   68962|8.391121241739903|Action,Drama,Romance|           138|\n",
      "|         Lost Ladies|          8.4|   49403|8.387627716768382|        Comedy,Drama|           122|\n",
      "|           Digvijaya|          9.2|     729|8.369262002743485|              Family|          NULL|\n",
      "|    The Eighth Sense|          8.7|    1696|8.346946140279472|       Drama,Romance|           117|\n",
      "|         Nene Saroja|          8.9|    1054|8.335283950617285|              Action|           155|\n",
      "|      Currency Nagar|          8.6|    2131|8.322522024144236|Drama,Romance,Thr...|           125|\n",
      "+--------------------+-------------+--------+-----------------+--------------------+--------------+\n",
      "\n"
     ]
    }
   ],
   "source": [
    "# Show results\n",
    "top_20_movies.select(\"primaryTitle\", \"averageRating\", \"numVotes\", \"weightedRating\", \"genres\", \"runtimeMinutes\").show()"
   ]
  },
  {
   "cell_type": "code",
   "execution_count": 22,
   "metadata": {
    "execution": {
     "iopub.execute_input": "2025-03-09T10:32:17.132924Z",
     "iopub.status.busy": "2025-03-09T10:32:17.132015Z",
     "iopub.status.idle": "2025-03-09T10:36:54.819103Z",
     "shell.execute_reply": "2025-03-09T10:36:54.817992Z",
     "shell.execute_reply.started": "2025-03-09T10:32:17.132893Z"
    }
   },
   "outputs": [
    {
     "name": "stdout",
     "output_type": "stream",
     "text": [
      "+--------------------+-------------+--------+-----------------+--------------------+--------------+----------+----------+----------+\n",
      "|        primaryTitle|averageRating|numVotes|   weightedRating|              genres|runtimeMinutes| directors|   writers|    nconst|\n",
      "+--------------------+-------------+--------+-----------------+--------------------+--------------+----------+----------+----------+\n",
      "|             Suraari|          9.4|     773|8.546419066579709|  Action,Crime,Drama|           139|nm14773050|nm14773050|nm14773259|\n",
      "|             Suraari|          9.4|     773|8.546419066579709|  Action,Crime,Drama|           139|nm14773050|nm14773050|nm14773257|\n",
      "|             Suraari|          9.4|     773|8.546419066579709|  Action,Crime,Drama|           139|nm14773050|nm14773050|nm12064158|\n",
      "|             Suraari|          9.4|     773|8.546419066579709|  Action,Crime,Drama|           139|nm14773050|nm14773050|nm13169668|\n",
      "|             Suraari|          9.4|     773|8.546419066579709|  Action,Crime,Drama|           139|nm14773050|nm14773050|nm14773051|\n",
      "|             Suraari|          9.4|     773|8.546419066579709|  Action,Crime,Drama|           139|nm14773050|nm14773050| nm5674731|\n",
      "|             Suraari|          9.4|     773|8.546419066579709|  Action,Crime,Drama|           139|nm14773050|nm14773050|nm14773050|\n",
      "|             Suraari|          9.4|     773|8.546419066579709|  Action,Crime,Drama|           139|nm14773050|nm14773050|nm12660187|\n",
      "|  Atatürk: 1881-1919|          8.8|    1955|8.473855007890096|Biography,Drama,H...|           132| nm3133017| nm0756326| nm4199420|\n",
      "|  Atatürk: 1881-1919|          8.8|    1955|8.473855007890096|Biography,Drama,H...|           132| nm3133017| nm0756326| nm3665668|\n",
      "|  Atatürk: 1881-1919|          8.8|    1955|8.473855007890096|Biography,Drama,H...|           132| nm3133017| nm0756326| nm6844216|\n",
      "|  Atatürk: 1881-1919|          8.8|    1955|8.473855007890096|Biography,Drama,H...|           132| nm3133017| nm0756326| nm7631423|\n",
      "|  Atatürk: 1881-1919|          8.8|    1955|8.473855007890096|Biography,Drama,H...|           132| nm3133017| nm0756326| nm0084759|\n",
      "|  Atatürk: 1881-1919|          8.8|    1955|8.473855007890096|Biography,Drama,H...|           132| nm3133017| nm0756326| nm6122128|\n",
      "|  Atatürk: 1881-1919|          8.8|    1955|8.473855007890096|Biography,Drama,H...|           132| nm3133017| nm0756326| nm0348347|\n",
      "|  Atatürk: 1881-1919|          8.8|    1955|8.473855007890096|Biography,Drama,H...|           132| nm3133017| nm0756326| nm2952873|\n",
      "|Nimmellara Aashir...|          9.5|     617|8.468999103834784|        Comedy,Drama|           124|nm15059355|nm15059355|nm12782656|\n",
      "|Nimmellara Aashir...|          9.5|     617|8.468999103834784|        Comedy,Drama|           124|nm15059355|nm15059355| nm5794293|\n",
      "|Nimmellara Aashir...|          9.5|     617|8.468999103834784|        Comedy,Drama|           124|nm15059355|nm15059355| nm9934189|\n",
      "|Nimmellara Aashir...|          9.5|     617|8.468999103834784|        Comedy,Drama|           124|nm15059355|nm15059355| nm5741813|\n",
      "+--------------------+-------------+--------+-----------------+--------------------+--------------+----------+----------+----------+\n",
      "only showing top 20 rows\n",
      "\n"
     ]
    }
   ],
   "source": [
    "# Join with crew dataset to get directors and writers\n",
    "top_20_with_crew = top_20_movies.join(imdb_crew_filtered, \"tconst\", \"left\")\n",
    "\n",
    "# Join with principals dataset to get actors\n",
    "top_20_with_actors = top_20_with_crew.join(\n",
    "    imdb_principals_filtered.filter(col(\"category\") == \"actor\"), \"tconst\", \"left\"\n",
    ")\n",
    "\n",
    "# Select relevant columns\n",
    "top_20_appended = top_20_with_actors.select(\n",
    "    \"primaryTitle\", \"averageRating\", \"numVotes\", \"weightedRating\", \"genres\", \"runtimeMinutes\",\n",
    "    \"directors\", \"writers\", \"nconst\"\n",
    ")\n",
    "\n",
    "top_20_appended.show()"
   ]
  },
  {
   "cell_type": "code",
   "execution_count": null,
   "metadata": {
    "execution": {
     "iopub.execute_input": "2025-03-09T11:23:59.360097Z",
     "iopub.status.busy": "2025-03-09T11:23:59.318803Z"
    }
   },
   "outputs": [],
   "source": [
    "from pyspark.sql.functions import collect_set, explode\n",
    "\n",
    "# Step 1: Aggregate actors into lists per movie\n",
    "top_20_grouped = (\n",
    "    top_20_with_actors\n",
    "    .groupby(\"primaryTitle\", \"averageRating\", \"numVotes\", \"weightedRating\", \"genres\", \"runtimeMinutes\", \"directors\", \"writers\")\n",
    "    .agg(collect_set(\"nconst\").alias(\"actors\"))\n",
    ")\n",
    "\n",
    "# Step 2: Join with `imdb_names` for Directors and Writers\n",
    "top_20_with_names = (\n",
    "    top_20_grouped\n",
    "    .join(imdb_names.withColumnRenamed(\"nconst\", \"directors\"), \"directors\", \"left\")\n",
    "    .join(imdb_names.withColumnRenamed(\"nconst\", \"writers\"), \"writers\", \"left\")\n",
    ")\n",
    "\n",
    "# Step 3: **EXPLODE** the actors list before joining with `imdb_names`\n",
    "top_20_exploded = top_20_with_names.withColumn(\"actor_nconst\", explode(\"actors\"))\n",
    "\n",
    "# Step 4: Join exploded actors with names dataset\n",
    "top_20_with_actor_names = top_20_exploded.join(\n",
    "    imdb_names.withColumnRenamed(\"nconst\", \"actor_nconst\").withColumnRenamed(\"primaryName\", \"actor_name\"),\n",
    "    \"actor_nconst\",\n",
    "    \"left\"\n",
    ")\n",
    "\n",
    "# Step 5: Aggregate actor names back into lists\n",
    "final_top_20_movies = top_20_with_actor_names.groupBy(\n",
    "    \"primaryTitle\", \"averageRating\", \"numVotes\", \"weightedRating\", \"genres\", \"runtimeMinutes\", \"directors\", \"writers\"\n",
    ").agg(\n",
    "    collect_set(\"actor_name\").alias(\"actors_names\"),\n",
    "    collect_set(\"primaryName\").alias(\"directors_names\"),\n",
    "    collect_set(\"primaryName\").alias(\"writers_names\")\n",
    ")\n",
    "\n",
    "final_top_20_movies.show()"
   ]
  },
  {
   "cell_type": "code",
   "execution_count": 26,
   "metadata": {
    "execution": {
     "iopub.execute_input": "2025-03-09T10:59:00.679925Z",
     "iopub.status.busy": "2025-03-09T10:59:00.676222Z",
     "iopub.status.idle": "2025-03-09T11:02:49.509843Z",
     "shell.execute_reply": "2025-03-09T11:02:49.501737Z",
     "shell.execute_reply.started": "2025-03-09T10:59:00.679791Z"
    }
   },
   "outputs": [
    {
     "data": {
      "image/png": "[encoded data removed]",
      "text/plain": [
       "<Figure size 1200x700 with 1 Axes>"
      ]
     },
     "metadata": {},
     "output_type": "display_data"
    }
   ],
   "source": [
    "import matplotlib.pyplot as plt\n",
    "import seaborn as sns\n",
    "\n",
    "# Sort in PySpark first\n",
    "top_20_sorted_spark = top_20_movies.orderBy(\"weightedRating\", ascending=False)\n",
    "\n",
    "# Convert to Pandas after sorting\n",
    "top_20_sorted = top_20_sorted_spark.toPandas()\n",
    "\n",
    "# Now plot\n",
    "plt.figure(figsize=(12, 7))\n",
    "sns.barplot(x=\"weightedRating\", y=\"primaryTitle\", data=top_20_sorted, color=\"#dc4c42\")\n",
    "\n",
    "# Add annotations (weighted scores)\n",
    "for index, value in enumerate(top_20_sorted[\"weightedRating\"]):\n",
    "    plt.text(value + 0.1, index, f\"{value:.2f}\", color=\"black\", va=\"center\", fontsize=10)\n",
    "\n",
    "plt.xlabel(\"Weighted Rating\", fontsize=12)\n",
    "plt.ylabel(\"Movie Title\", fontsize=12)\n",
    "plt.title(\"Top 20 Movies of 2023 by Weighted Rating\", fontsize=14, fontweight='bold')\n",
    "\n",
    "plt.show()"
   ]
  },
  {
   "cell_type": "code",
   "execution_count": null,
   "metadata": {},
   "outputs": [],
   "source": [
    "import matplotlib.pyplot as plt\n",
    "import numpy as np\n",
    "from collections import defaultdict\n",
    "\n",
    "# Define a colormap for genres\n",
    "genre_colors = {\n",
    "    \"Drama\": \"red\",\n",
    "    \"Action\": \"blue\",\n",
    "    \"Comedy\": \"green\",\n",
    "    \"Romance\": \"purple\",\n",
    "    \"Thriller\": \"orange\",\n",
    "    \"Biography\": \"cyan\",\n",
    "    \"Crime\": \"brown\",\n",
    "    \"Documentary\": \"yellow\",\n",
    "    \"War\": \"black\",\n",
    "    \"Music\": \"pink\",\n",
    "    \"Family\": \"gray\",\n",
    "    \"Adventure\": \"magenta\"\n",
    "}\n",
    "\n",
    "# Ensure genres column is a list\n",
    "top_20_movies[\"genres\"] = top_20_movies[\"genres\"].apply(lambda x: x if isinstance(x, list) else [x])\n",
    "\n",
    "# Function to assign blended color based on multiple genres\n",
    "def get_genre_color(genre_list):\n",
    "    colors = [genre_colors.get(g, \"white\") for g in genre_list if g in genre_colors]\n",
    "    \n",
    "    if len(colors) == 1:\n",
    "        return colors[0]  # Single color\n",
    "    elif len(colors) == 2:\n",
    "        return np.mean([plt.cm.colors.to_rgb(c) for c in colors], axis=0)  # Blend two colors\n",
    "    elif len(colors) >= 3:\n",
    "        return np.mean([plt.cm.colors.to_rgb(c) for c in colors[:3]], axis=0)  # Blend three colors\n",
    "    return \"white\"  # Default color if no genres match\n",
    "\n",
    "# Assign colors to each movie\n",
    "top_20_movies[\"color\"] = top_20_movies[\"genres\"].apply(get_genre_color)\n",
    "\n",
    "# Bubble size based on numVotes\n",
    "bubble_size = np.sqrt(top_20_movies[\"numVotes\"]) * 2  # Adjust for visibility\n",
    "\n",
    "# Create bubble plot\n",
    "plt.figure(figsize=(12, 8))\n",
    "plt.scatter(\n",
    "    top_20_movies[\"averageRating\"],\n",
    "    top_20_movies[\"weightedRating\"],\n",
    "    s=bubble_size,\n",
    "    alpha=0.6,\n",
    "    c=top_20_pd[\"color\"].tolist(),\n",
    "    edgecolors=\"black\",\n",
    "    linewidth=1.2\n",
    ")\n",
    "\n",
    "# Labels and grid\n",
    "plt.xlabel(\"Average Rating\", fontsize=12)\n",
    "plt.ylabel(\"Weighted Rating\", fontsize=12)\n",
    "plt.title(\"Top 20 Movies: Average Rating vs Weighted Rating\", fontsize=14, fontweight='bold')\n",
    "plt.grid(True, linestyle=\"--\", alpha=0.5)\n",
    "\n",
    "# Show plot\n",
    "plt.show()"
   ]
  },
  {
   "cell_type": "code",
   "execution_count": 29,
   "metadata": {
    "execution": {
     "iopub.execute_input": "2025-03-09T11:08:08.564281Z",
     "iopub.status.busy": "2025-03-09T11:08:08.562487Z",
     "iopub.status.idle": "2025-03-09T11:22:25.656819Z",
     "shell.execute_reply": "2025-03-09T11:22:25.645779Z",
     "shell.execute_reply.started": "2025-03-09T11:08:08.564203Z"
    }
   },
   "outputs": [
    {
     "name": "stdout",
     "output_type": "stream",
     "text": [
      "+----------+---------+--------------------+--------------------+-------+---------+-------+--------------+--------------------+-------------+--------+\n",
      "|    tconst|titleType|        primaryTitle|       originalTitle|isAdult|startYear|endYear|runtimeMinutes|              genres|averageRating|numVotes|\n",
      "+----------+---------+--------------------+--------------------+-------+---------+-------+--------------+--------------------+-------------+--------+\n",
      "|tt26470758|    movie|       Vida de Atriz|       Vida de Atriz|      0|     2023|   NULL|            77|               Drama|         10.0|       7|\n",
      "|tt21065098|    movie|Prince Oak Oakley...|Prince Oak Oakley...|      0|     2023|   NULL|            60|                NULL|         10.0|      32|\n",
      "|tt27529215|    movie|             Bindori|             Bindori|      0|     2023|   NULL|          NULL|                NULL|         10.0|       8|\n",
      "|tt26680820|    movie|          COMPLEXion|          COMPLEXion|      0|     2023|   NULL|            49|         Documentary|         10.0|       7|\n",
      "|tt28797930|    movie|    Laiskas Ukrainai|    Laiskas Ukrainai|      0|     2023|   NULL|          NULL|                NULL|         10.0|       5|\n",
      "|tt28803744|    movie|Paradise (bunnies...|Paradise (bunnies...|      0|     2023|   NULL|            93|         Documentary|         10.0|       6|\n",
      "|tt29259789|    movie|Sisters & The Shr...|Sisters & The Shr...|      0|     2023|   NULL|          NULL|               Drama|         10.0|      10|\n",
      "|tt28476269|    movie|Cranedance A Stor...|Cranedance A Stor...|      0|     2023|   NULL|            93|         Documentary|          9.9|       9|\n",
      "|tt28531353|    movie|Money Man: An Ori...|Money Man: An Ori...|      0|     2023|   NULL|          NULL|         Documentary|          9.9|      10|\n",
      "|tt32414572|    movie|Nanda Master'nka ...|Nanda Master'nka ...|      0|     2023|   NULL|            90|Biography,Documen...|          9.9|      11|\n",
      "|tt33336267|    movie|The Parish of the...|The Parish of the...|      0|     2023|   NULL|           159|             History|          9.9|      18|\n",
      "|tt28552918|    movie|            Obsolete|            Bhangaar|      0|     2023|   NULL|            64|               Drama|          9.9|      11|\n",
      "|tt28235395|    movie|         Dhh Lekacha|         Dhh Lekacha|      0|     2023|   NULL|          NULL|        Drama,Family|          9.9|       9|\n",
      "|tt27834496|    movie|      A Summer Night|      A Summer Night|      0|     2023|   NULL|            70|               Drama|          9.9|      29|\n",
      "|tt22643094|    movie|   Dastaan-E-Sirhind|   Dastaan-E-Sirhind|      0|     2023|   NULL|           130|             History|          9.8|      23|\n",
      "|tt28230767|    movie|          Puppy Love|          Puppy Love|      0|     2023|   NULL|            76|         Documentary|          9.8|      10|\n",
      "|tt26742253|    movie|           Raashifal|           Raashifal|      0|     2023|   NULL|          NULL|              Comedy|          9.8|       8|\n",
      "|tt20769662|    movie|               Griôs|               Griôs|      0|     2023|   NULL|            64|         Documentary|          9.8|       7|\n",
      "|tt27565797|    movie|        The Made Man|        The Made Man|      0|     2023|   NULL|            71|              Comedy|          9.8|      13|\n",
      "|tt20860454|    movie| Pinjre Ki Titliyaan| Pinjre Ki Titliyaan|      0|     2023|   NULL|            90|               Drama|          9.8|      13|\n",
      "+----------+---------+--------------------+--------------------+-------+---------+-------+--------------+--------------------+-------------+--------+\n",
      "\n"
     ]
    }
   ],
   "source": [
    "# Get the top 20 movies based on average rating alone\n",
    "top_20_avg_rating = movie_ratings_2023.orderBy(col(\"averageRating\").desc()).limit(20)\n",
    "\n",
    "top_20_avg_rating.show()"
   ]
  },
  {
   "cell_type": "markdown",
   "metadata": {},
   "source": [
    "### 2. Most Popular Actors/Actresses in 2023"
   ]
  },
  {
   "cell_type": "markdown",
   "metadata": {},
   "source": [
    "Defining a Popularity Metric for Actors in 2023\n",
    "To determine the most popular actors, we need a metric that balances both audience engagement (votes) and critical reception (ratings). A straightforward approach is a weighted popularity score:\n",
    "\n",
    "Popularity Score = [V/(𝑉+𝑀)]𝑅 + [𝑀/(𝑉+𝑀)]𝐶\n",
    "\n",
    "Where:\n",
    "\n",
    "𝑉 = Total number of votes the actor received across all movies.\n",
    "𝑅 = Average rating across the actor's movies.\n",
    "𝑀 = A vote threshold (e.g., 75th percentile of total votes across actors).\n",
    "𝐶 = Mean rating of all actors in 2023.\n",
    "\n",
    "This formula is similar to IMDb's weighted rating but applied to actors instead of movies."
   ]
  },
  {
   "cell_type": "code",
   "execution_count": null,
   "metadata": {},
   "outputs": [],
   "source": [
    "from pyspark.sql.functions import col, avg, sum, count, lit\n",
    "\n",
    "# Step 1 & 2: Use previously filtered 2023 movies merged with ratings\n",
    "movie_ratings_2023.show()"
   ]
  },
  {
   "cell_type": "code",
   "execution_count": null,
   "metadata": {},
   "outputs": [],
   "source": [
    "# Step 3: Join with principals to get actors/actresses\n",
    "cast_2023 = movie_ratings_2023.join(\n",
    "    imdb_principals_filtered.filter(col(\"category\").isin([\"actor\", \"actress\"])),\n",
    "    \"tconst\",\n",
    "    \"inner\"\n",
    ")"
   ]
  },
  {
   "cell_type": "code",
   "execution_count": null,
   "metadata": {},
   "outputs": [],
   "source": [
    "# Step 4: Join with names dataset to get actor details\n",
    "actors_2023 = cast_2023.join(imdb_names, \"nconst\", \"inner\")"
   ]
  },
  {
   "cell_type": "code",
   "execution_count": null,
   "metadata": {},
   "outputs": [],
   "source": [
    "# Step 5: Aggregate votes and ratings per actor\n",
    "actor_popularity = actors_2023.groupBy(\"primaryName\").agg(\n",
    "    sum(\"numVotes\").alias(\"totalVotes\"),  # Total number of votes across movies\n",
    "    avg(\"averageRating\").alias(\"avgRating\")  # Average rating of movies\n",
    ")"
   ]
  },
  {
   "cell_type": "code",
   "execution_count": null,
   "metadata": {},
   "outputs": [],
   "source": [
    "# Step 6: Compute vote threshold (M) and mean rating (C)\n",
    "C = actor_popularity.select(avg(\"avgRating\")).collect()[0][0]  # Mean actor rating\n",
    "M = actor_popularity.approxQuantile(\"totalVotes\", [0.75], 0.01)[0]  # 75th percentile of votes"
   ]
  },
  {
   "cell_type": "code",
   "execution_count": null,
   "metadata": {},
   "outputs": [],
   "source": [
    "# Step 7: Compute Popularity Score\n",
    "actor_popularity = actor_popularity.withColumn(\n",
    "    \"popularityScore\",\n",
    "    (col(\"totalVotes\") / (col(\"totalVotes\") + lit(M))) * col(\"avgRating\") +\n",
    "    (lit(M) / (col(\"totalVotes\") + lit(M))) * lit(C)\n",
    ")"
   ]
  },
  {
   "cell_type": "code",
   "execution_count": null,
   "metadata": {},
   "outputs": [],
   "source": [
    "# Step 8: Get top 20 most popular actors\n",
    "top_20_actors = actor_popularity.orderBy(col(\"popularityScore\").desc()).limit(20)\n",
    "\n",
    "top_20_actors.show()"
   ]
  },
  {
   "cell_type": "markdown",
   "metadata": {},
   "source": [
    "Why This Metric?\n",
    "✅ Balances popularity and quality → High vote count alone doesn’t make an actor great. <br> ✅ Accounts for audience size → More votes = more engagement. <br> ✅ Controls for extreme ratings → A single highly-rated but low-vote movie won’t dominate. <br> ✅ Industry relevance → Movie studios care about both audience reception and critical approval."
   ]
  },
  {
   "cell_type": "markdown",
   "metadata": {},
   "source": [
    "### 3. User-Movie Trends"
   ]
  },
  {
   "cell_type": "code",
   "execution_count": null,
   "metadata": {},
   "outputs": [],
   "source": []
  },
  {
   "cell_type": "markdown",
   "metadata": {},
   "source": [
    "### 4. Metric of a 'Hit Movie'"
   ]
  },
  {
   "cell_type": "code",
   "execution_count": null,
   "metadata": {},
   "outputs": [],
   "source": []
  },
  {
   "cell_type": "markdown",
   "metadata": {},
   "source": [
    "<h2 style=\"color:#de4a48; background-color:#fce19a; padding: 10px; text-align:left; border: 1px solid #fce19a;\">Predictive Modelling</h2>"
   ]
  },
  {
   "cell_type": "markdown",
   "metadata": {},
   "source": []
  },
  {
   "cell_type": "code",
   "execution_count": null,
   "metadata": {},
   "outputs": [],
   "source": []
  },
  {
   "cell_type": "code",
   "execution_count": null,
   "metadata": {},
   "outputs": [],
   "source": []
  },
  {
   "cell_type": "markdown",
   "metadata": {},
   "source": [
    "<h2 style=\"color:#de4a48; background-color:#fce19a; padding: 10px; text-align:left; border: 1px solid #fce19a;\">References</h2>"
   ]
  },
  {
   "cell_type": "markdown",
   "metadata": {},
   "source": [
    "https://medium.com/@jingkunzler211/choosing-the-best-regression-model-imdb-movie-rating-prediction-3298fb11b6d\n",
    "\n",
    "https://www.kaggle.com/code/ibtesama/getting-started-with-a-movie-recommendation-system/notebook\n",
    "\n",
    "https://www.kaggle.com/code/rounakbanik/movie-recommender-systems\n",
    "\n",
    "https://www.kaggle.com/datasets/asaniczka/tmdb-movies-dataset-2023-930k-movies\n",
    "\n",
    "https://www.reddit.com/r/statistics/comments/1niai5/imbd_weighted_average/"
   ]
  }
 ],
 "metadata": {
  "kernelspec": {
   "display_name": "Python 3 (ipykernel)",
   "language": "python",
   "name": "python3"
  },
  "language_info": {
   "codemirror_mode": {
    "name": "ipython",
    "version": 3
   },
   "file_extension": ".py",
   "mimetype": "text/x-python",
   "name": "python",
   "nbconvert_exporter": "python",
   "pygments_lexer": "ipython3",
   "version": "3.13.1"
  }
 },
 "nbformat": 4,
 "nbformat_minor": 4
}
