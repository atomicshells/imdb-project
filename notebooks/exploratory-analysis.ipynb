{
 "cells": [
  {
   "cell_type": "markdown",
   "metadata": {},
   "source": [
    "![banner.png](banner.png)"
   ]
  },
  {
   "cell_type": "markdown",
   "metadata": {},
   "source": [
    "<h2 style=\"color:#de4a48; background-color:#fce19a; padding: 10px; text-align:left; border: 1px solid #fce19a;\">Imports</h2>"
   ]
  },
  {
   "cell_type": "code",
   "execution_count": 2,
   "metadata": {},
   "outputs": [],
   "source": [
    "from pyspark.sql import SparkSession\n",
    "import os"
   ]
  },
  {
   "cell_type": "code",
   "execution_count": 3,
   "metadata": {},
   "outputs": [],
   "source": [
    "spark = SparkSession.builder \\\n",
    "    .appName(\"IMDbProject\") \\\n",
    "    .config(\"spark.driver.memory\", \"4g\") \\\n",
    "    .getOrCreate()"
   ]
  },
  {
   "cell_type": "code",
   "execution_count": null,
   "metadata": {},
   "outputs": [],
   "source": [
    "# spark.conf.set(\"spark.sql.shuffle.partitions\", \"4\")\n",
    "# spark.conf.set(\"spark.executor.memory\", \"2g\")"
   ]
  },
  {
   "cell_type": "markdown",
   "metadata": {},
   "source": [
    "<h2 style=\"color:#de4a48; background-color:#fce19a; padding: 10px; text-align:left; border: 1px solid #fce19a;\">Load Datasets</h2>"
   ]
  },
  {
   "cell_type": "code",
   "execution_count": 4,
   "metadata": {},
   "outputs": [],
   "source": [
    "# Paths\n",
    "IMDB_PATH = '../data/raw/imdb'\n",
    "TMDB_PATH = '../data/raw/tmdb'"
   ]
  },
  {
   "cell_type": "code",
   "execution_count": 5,
   "metadata": {},
   "outputs": [],
   "source": [
    "imdb_files = {\n",
    "    \"basics\": \"title.basics.tsv\",\n",
    "    \"akas\": \"title.akas.tsv\",\n",
    "    \"crew\": \"title.crew.tsv\",\n",
    "    \"episode\": \"title.episode.tsv\",\n",
    "    \"principals\": \"title.principals.tsv\",\n",
    "    \"ratings\": \"title.ratings.tsv\",\n",
    "    \"names\": \"name.basics.tsv\"\n",
    "}\n",
    "\n",
    "imdb_dfs = {\n",
    "    key: spark.read.csv(\n",
    "        os.path.join(IMDB_PATH, filename),\n",
    "        sep='\\t',\n",
    "        header=True,\n",
    "        inferSchema=True,\n",
    "        nullValue='\\\\N'\n",
    "    )\n",
    "    for key, filename in imdb_files.items()\n",
    "}"
   ]
  },
  {
   "cell_type": "code",
   "execution_count": 7,
   "metadata": {},
   "outputs": [],
   "source": [
    "tmdb_movies = spark.read.csv(\n",
    "    os.path.join(TMDB_PATH, 'TMDB_movie_dataset_v11.csv'),\n",
    "    header=True,\n",
    "    inferSchema=True\n",
    ")"
   ]
  },
  {
   "cell_type": "code",
   "execution_count": null,
   "metadata": {},
   "outputs": [],
   "source": [
    "for name, df in imdb_dfs.items():\n",
    "    print(f\"IMDb - {name}:\")\n",
    "    df.show(5)\n",
    "\n",
    "print(\"TMDb:\")\n",
    "tmdb_movies.show(5)"
   ]
  },
  {
   "cell_type": "markdown",
   "metadata": {},
   "source": [
    "<h2 style=\"color:#de4a48; background-color:#fce19a; padding: 10px; text-align:left; border: 1px solid #fce19a;\">Exploratory Data Analysis</h2>\n",
    "\n",
    "### Preliminary EDA"
   ]
  },
  {
   "cell_type": "code",
   "execution_count": null,
   "metadata": {},
   "outputs": [],
   "source": []
  },
  {
   "cell_type": "markdown",
   "metadata": {},
   "source": [
    "### 1. Highest Rated Movies in 2023"
   ]
  },
  {
   "cell_type": "markdown",
   "metadata": {},
   "source": [
    "**Balancing Ratings and Number of Votes:**\n",
    "\n"
   ]
  },
  {
   "cell_type": "code",
   "execution_count": null,
   "metadata": {},
   "outputs": [],
   "source": []
  },
  {
   "cell_type": "code",
   "execution_count": null,
   "metadata": {},
   "outputs": [],
   "source": []
  },
  {
   "cell_type": "markdown",
   "metadata": {},
   "source": [
    "### 2. Most Popular Actors/Actresses in 2023"
   ]
  },
  {
   "cell_type": "code",
   "execution_count": null,
   "metadata": {},
   "outputs": [],
   "source": []
  },
  {
   "cell_type": "markdown",
   "metadata": {},
   "source": [
    "### 3. User-Movie Trends"
   ]
  },
  {
   "cell_type": "code",
   "execution_count": null,
   "metadata": {},
   "outputs": [],
   "source": []
  },
  {
   "cell_type": "markdown",
   "metadata": {},
   "source": [
    "### 4. Metric of a 'Hit Movie'"
   ]
  },
  {
   "cell_type": "code",
   "execution_count": null,
   "metadata": {},
   "outputs": [],
   "source": []
  },
  {
   "cell_type": "markdown",
   "metadata": {},
   "source": [
    "<h2 style=\"color:#de4a48; background-color:#fce19a; padding: 10px; text-align:left; border: 1px solid #fce19a;\">Predictive Modelling</h2>"
   ]
  },
  {
   "cell_type": "markdown",
   "metadata": {},
   "source": []
  }
 ],
 "metadata": {
  "kernelspec": {
   "display_name": ".venv",
   "language": "python",
   "name": "python3"
  },
  "language_info": {
   "codemirror_mode": {
    "name": "ipython",
    "version": 3
   },
   "file_extension": ".py",
   "mimetype": "text/x-python",
   "name": "python",
   "nbconvert_exporter": "python",
   "pygments_lexer": "ipython3",
   "version": "3.12.7"
  }
 },
 "nbformat": 4,
 "nbformat_minor": 2
}
